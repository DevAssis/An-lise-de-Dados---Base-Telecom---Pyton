{
 "cells": [
  {
   "cell_type": "markdown",
   "metadata": {},
   "source": [
    "# Análise de Dados com Python\n",
    "\n",
    "### Desafio:\n",
    "\n",
    "Em uma determinda empresa de telecom tem clientes de vários serviços diferentes, entre os principais: internet e telefone.\n",
    "\n",
    "O problema é que, analisando o histórico dos clientes dos últimos anos, você percebeu que a empresa está com Churn de mais de 26% dos clientes.\n",
    "\n",
    "Isso representa uma perda de milhões para a empresa.\n",
    "\n",
    "O que a empresa precisa fazer para resolver isso?\n",
    "\n",
    "Link Original da Base de Dados no Kaggle: https://www.kaggle.com/radmirzosimov/telecom-users-dataset"
   ]
  },
  {
   "cell_type": "code",
   "execution_count": null,
   "metadata": {},
   "outputs": [],
   "source": [
    "!pip install plotly"
   ]
  },
  {
   "cell_type": "code",
   "execution_count": null,
   "metadata": {},
   "outputs": [],
   "source": [
    "# importar bibibliotecas\n",
    "import pandas as pd\n",
    "import plotly.express as px"
   ]
  },
  {
   "cell_type": "code",
   "execution_count": null,
   "metadata": {
    "scrolled": false
   },
   "outputs": [],
   "source": [
    "# visualizar a base de Dados para análise\n",
    "df = pd.read_csv('basededados_user.csv')\n",
    "display(df)"
   ]
  },
  {
   "cell_type": "code",
   "execution_count": null,
   "metadata": {
    "scrolled": true
   },
   "outputs": [],
   "source": [
    "# tratamento dos dados(Eliminando coluna desnecessaria)\n",
    "df = df.drop(['Unnamed: 0','IDCliente' ], axis=1)"
   ]
  },
  {
   "cell_type": "code",
   "execution_count": null,
   "metadata": {
    "scrolled": true
   },
   "outputs": [],
   "source": [
    "# tratamento dos dados(verificar formatos dos valores)\n",
    "display(df.info())"
   ]
  },
  {
   "cell_type": "code",
   "execution_count": null,
   "metadata": {
    "scrolled": true
   },
   "outputs": [],
   "source": [
    "df['TotalGasto'] = pd.to_numeric(df['TotalGasto'], errors='coerce')"
   ]
  },
  {
   "cell_type": "code",
   "execution_count": null,
   "metadata": {},
   "outputs": [],
   "source": [
    "display(df.info())"
   ]
  },
  {
   "cell_type": "code",
   "execution_count": null,
   "metadata": {},
   "outputs": [],
   "source": [
    "df = df.dropna(how='all', axis=1)\n",
    "df = df.dropna(how='any', axis=0)\n",
    "display(df.info())"
   ]
  },
  {
   "cell_type": "code",
   "execution_count": null,
   "metadata": {
    "scrolled": false
   },
   "outputs": [],
   "source": [
    "# informação do quantitativo de cancelamento\n",
    "display(df['Churn'].value_counts(normalize=True).map('{:.1%}'.format))"
   ]
  },
  {
   "cell_type": "code",
   "execution_count": null,
   "metadata": {
    "scrolled": true
   },
   "outputs": [],
   "source": [
    "# Graficos para ánalise\n",
    "for coluna in df.columns:\n",
    "    grafico = px.histogram(df, x = coluna, color = 'Churn')\n",
    "    grafico.show()"
   ]
  },
  {
   "cell_type": "markdown",
   "metadata": {},
   "source": [
    "### Conclusões e Ações"
   ]
  },
  {
   "cell_type": "markdown",
   "metadata": {},
   "source": [
    "\n",
    "Taxa de Cancelamento é maior em Familia menores\n",
    " - Oferecer mais condições de plano familia.\n",
    "\n",
    "Perca de cliente nos primeiros meses\n",
    " - Gerenciar melhor o trafego para atrair mais clientes qualificados.\n",
    " - Bonificar os cliente nos primeiros meses\n",
    " \n",
    "Perca de cliente no serviço de fibra\n",
    " - Melhorar a manutenção e qualidade das fibras e sua estrutura\n",
    "\n",
    "Perca de cliente no serviço segurança Online\n",
    " - Aumentar a segurança online.\n",
    "\n",
    "Perca de cliente no serviço de backup online\n",
    " - Melhorar a manutenção e qualidade do serviço de backup online\n",
    "\n",
    "Quanto mais serviços ao cliente, menor a chance de cancelamento\n",
    "  - Oferecer mais serviços de custo baixo e melhorar os já existentes\n",
    "\n",
    "Alta taxa de cancelamento nos contratos mensais\n",
    "- Dar um desconto para assinantes migrarem para contratos anuais\n",
    "\n",
    "Clientes que nao tem Suporte técnico tem mais taxa de cancelamento\n",
    " - Realizar uma campanha para ofertar o serviço de Suporte Tecnino aos clintes\n",
    "\n",
    "\n",
    "\n"
   ]
  },
  {
   "cell_type": "code",
   "execution_count": null,
   "metadata": {},
   "outputs": [],
   "source": []
  }
 ],
 "metadata": {
  "kernelspec": {
   "display_name": "Python 3 (ipykernel)",
   "language": "python",
   "name": "python3"
  },
  "language_info": {
   "codemirror_mode": {
    "name": "ipython",
    "version": 3
   },
   "file_extension": ".py",
   "mimetype": "text/x-python",
   "name": "python",
   "nbconvert_exporter": "python",
   "pygments_lexer": "ipython3",
   "version": "3.9.7"
  }
 },
 "nbformat": 4,
 "nbformat_minor": 4
}
